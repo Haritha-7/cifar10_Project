{
 "cells": [
  {
   "cell_type": "code",
   "execution_count": 16,
   "metadata": {},
   "outputs": [],
   "source": [
    "import tensorflow as tf\n",
    "from PIL import Image\n",
    "from tensorflow.keras import layers\n"
   ]
  },
  {
   "cell_type": "code",
   "execution_count": 17,
   "metadata": {},
   "outputs": [
    {
     "data": {
      "image/png": "[encoded data removed]",
      "text/plain": [
       "<PIL.PngImagePlugin.PngImageFile image mode=RGB size=32x32>"
      ]
     },
     "execution_count": 17,
     "metadata": {},
     "output_type": "execute_result"
    }
   ],
   "source": [
    "img=Image.open(\"./cifar10/test/airplane/1001_airplane.png\")\n",
    "img"
   ]
  },
  {
   "cell_type": "code",
   "execution_count": 18,
   "metadata": {},
   "outputs": [
    {
     "data": {
      "text/plain": [
       "(32, 32)"
      ]
     },
     "execution_count": 18,
     "metadata": {},
     "output_type": "execute_result"
    }
   ],
   "source": [
    "img.size"
   ]
  },
  {
   "cell_type": "code",
   "execution_count": 19,
   "metadata": {},
   "outputs": [
    {
     "name": "stdout",
     "output_type": "stream",
     "text": [
      "Found 50000 files belonging to 10 classes.\n"
     ]
    },
    {
     "data": {
      "text/plain": [
       "<BatchDataset element_spec=(TensorSpec(shape=(None, 32, 32, 3), dtype=tf.float32, name=None), TensorSpec(shape=(None,), dtype=tf.int32, name=None))>"
      ]
     },
     "execution_count": 19,
     "metadata": {},
     "output_type": "execute_result"
    }
   ],
   "source": [
    "data=tf.keras.utils.image_dataset_from_directory(\n",
    "    \"./cifar10/train/\",\n",
    "    image_size=(32,32),\n",
    "    color_mode=\"rgb\",\n",
    "    batch_size=50000\n",
    ")\n",
    "data"
   ]
  },
  {
   "cell_type": "code",
   "execution_count": 20,
   "metadata": {},
   "outputs": [
    {
     "data": {
      "text/plain": [
       "'for fe,le in data:\\n    print(fe.shape,le.shape)\\n    break'"
      ]
     },
     "execution_count": 20,
     "metadata": {},
     "output_type": "execute_result"
    }
   ],
   "source": [
    "'''for fe,le in data:\n",
    "    print(fe.shape,le.shape)\n",
    "    break'''"
   ]
  },
  {
   "cell_type": "code",
   "execution_count": 21,
   "metadata": {},
   "outputs": [],
   "source": [
    "cnn_model=tf.keras.Sequential([\n",
    "    layers.Conv2D(9,3,padding=\"same\",input_shape=(32,32,3)),\n",
    "    #layers.Conv2D(18,5,input_shape=(32,32,3)),\n",
    "    layers.MaxPool2D(),\n",
    "    layers.Conv2D(18,3,padding=\"same\"),\n",
    "   # layers.Conv2D(36,3,activation=\"leaky_relu\"),\n",
    "    layers.MaxPool2D(),\n",
    "    layers.Conv2D(36,3),\n",
    "    #layers.Conv2D(36,3,activation=\"leaky_relu\"),\n",
    "    layers.MaxPool2D(),\n",
    "    layers.Flatten(),\n",
    "    layers.Dense(64,activation=\"relu\"),\n",
    "    layers.Dense(10),\n",
    "    layers.Softmax()\n",
    "    #layers.Activation(\"softmax\")\n",
    "\n",
    "    \n",
    "    \n",
    "    ])"
   ]
  },
  {
   "cell_type": "code",
   "execution_count": 22,
   "metadata": {},
   "outputs": [
    {
     "name": "stdout",
     "output_type": "stream",
     "text": [
      "Model: \"sequential_1\"\n",
      "_________________________________________________________________\n",
      " Layer (type)                Output Shape              Param #   \n",
      "=================================================================\n",
      " conv2d_3 (Conv2D)           (None, 32, 32, 9)         252       \n",
      "                                                                 \n",
      " max_pooling2d_3 (MaxPooling  (None, 16, 16, 9)        0         \n",
      " 2D)                                                             \n",
      "                                                                 \n",
      " conv2d_4 (Conv2D)           (None, 16, 16, 18)        1476      \n",
      "                                                                 \n",
      " max_pooling2d_4 (MaxPooling  (None, 8, 8, 18)         0         \n",
      " 2D)                                                             \n",
      "                                                                 \n",
      " conv2d_5 (Conv2D)           (None, 6, 6, 36)          5868      \n",
      "                                                                 \n",
      " max_pooling2d_5 (MaxPooling  (None, 3, 3, 36)         0         \n",
      " 2D)                                                             \n",
      "                                                                 \n",
      " flatten_1 (Flatten)         (None, 324)               0         \n",
      "                                                                 \n",
      " dense_2 (Dense)             (None, 64)                20800     \n",
      "                                                                 \n",
      " dense_3 (Dense)             (None, 10)                650       \n",
      "                                                                 \n",
      " softmax_1 (Softmax)         (None, 10)                0         \n",
      "                                                                 \n",
      "=================================================================\n",
      "Total params: 29,046\n",
      "Trainable params: 29,046\n",
      "Non-trainable params: 0\n",
      "_________________________________________________________________\n"
     ]
    }
   ],
   "source": [
    "#cnn_model.build(input_shape=(1,32,32,3))\n",
    "cnn_model.summary()"
   ]
  },
  {
   "cell_type": "code",
   "execution_count": 23,
   "metadata": {},
   "outputs": [
    {
     "data": {
      "text/plain": [
       "'len(data)'"
      ]
     },
     "execution_count": 23,
     "metadata": {},
     "output_type": "execute_result"
    }
   ],
   "source": [
    "'''len(data)'''"
   ]
  },
  {
   "cell_type": "code",
   "execution_count": 24,
   "metadata": {},
   "outputs": [
    {
     "data": {
      "text/plain": [
       "'for batch in data:\\n    print(batch)'"
      ]
     },
     "execution_count": 24,
     "metadata": {},
     "output_type": "execute_result"
    }
   ],
   "source": [
    "'''for batch in data:\n",
    "    print(batch)'''"
   ]
  },
  {
   "cell_type": "code",
   "execution_count": 25,
   "metadata": {},
   "outputs": [
    {
     "data": {
      "text/plain": [
       "'for images,labels in data:\\n    labels=tf.one_hot(labels,10)\\n    print(images.shape,labels.shape)\\n    pred=cnn_model.predict(images)\\n    print(pred)\\n    break'"
      ]
     },
     "execution_count": 25,
     "metadata": {},
     "output_type": "execute_result"
    }
   ],
   "source": [
    "'''for images,labels in data:\n",
    "    labels=tf.one_hot(labels,10)\n",
    "    print(images.shape,labels.shape)\n",
    "    pred=cnn_model.predict(images)\n",
    "    print(pred)\n",
    "    break'''"
   ]
  },
  {
   "cell_type": "code",
   "execution_count": 26,
   "metadata": {},
   "outputs": [],
   "source": [
    "cnn_model.compile(\n",
    "    loss=tf.keras.losses.categorical_crossentropy,\n",
    "    optimizer=tf.keras.optimizers.Adam(0.001),\n",
    "    metrics=[\"accuracy\"]\n",
    ")"
   ]
  },
  {
   "cell_type": "code",
   "execution_count": 27,
   "metadata": {},
   "outputs": [
    {
     "name": "stdout",
     "output_type": "stream",
     "text": [
      "(50000, 32, 32, 3) (50000, 10)\n",
      "Epoch 1/50\n",
      "1000/1000 [==============================] - 34s 33ms/step - loss: 1.5588 - accuracy: 0.4382\n",
      "Epoch 2/50\n",
      "1000/1000 [==============================] - 31s 31ms/step - loss: 1.2288 - accuracy: 0.5662\n",
      "Epoch 3/50\n",
      "1000/1000 [==============================] - 32s 32ms/step - loss: 1.0851 - accuracy: 0.6197\n",
      "Epoch 4/50\n",
      "1000/1000 [==============================] - 42s 42ms/step - loss: 0.9983 - accuracy: 0.6502\n",
      "Epoch 5/50\n",
      "1000/1000 [==============================] - 34s 34ms/step - loss: 0.9352 - accuracy: 0.6711\n",
      "Epoch 6/50\n",
      "1000/1000 [==============================] - 27s 27ms/step - loss: 0.8809 - accuracy: 0.6904\n",
      "Epoch 7/50\n",
      "1000/1000 [==============================] - 21s 21ms/step - loss: 0.8403 - accuracy: 0.7031\n",
      "Epoch 8/50\n",
      "1000/1000 [==============================] - 21s 21ms/step - loss: 0.8079 - accuracy: 0.7154\n",
      "Epoch 9/50\n",
      "1000/1000 [==============================] - 21s 21ms/step - loss: 0.7795 - accuracy: 0.7280\n",
      "Epoch 10/50\n",
      "1000/1000 [==============================] - 22s 22ms/step - loss: 0.7531 - accuracy: 0.7363\n",
      "Epoch 11/50\n",
      "1000/1000 [==============================] - 22s 22ms/step - loss: 0.7293 - accuracy: 0.7438\n",
      "Epoch 12/50\n",
      "1000/1000 [==============================] - 22s 22ms/step - loss: 0.7073 - accuracy: 0.7521\n",
      "Epoch 13/50\n",
      "1000/1000 [==============================] - 24s 24ms/step - loss: 0.6925 - accuracy: 0.7573\n",
      "Epoch 14/50\n",
      "1000/1000 [==============================] - 22s 22ms/step - loss: 0.6744 - accuracy: 0.7635\n",
      "Epoch 15/50\n",
      "1000/1000 [==============================] - 27s 27ms/step - loss: 0.6567 - accuracy: 0.7711\n",
      "Epoch 16/50\n",
      "1000/1000 [==============================] - 28s 28ms/step - loss: 0.6421 - accuracy: 0.7754\n",
      "Epoch 17/50\n",
      "1000/1000 [==============================] - 30s 30ms/step - loss: 0.6255 - accuracy: 0.7800\n",
      "Epoch 18/50\n",
      "1000/1000 [==============================] - 27s 27ms/step - loss: 0.6161 - accuracy: 0.7839\n",
      "Epoch 19/50\n",
      "1000/1000 [==============================] - 27s 27ms/step - loss: 0.6011 - accuracy: 0.7875\n",
      "Epoch 20/50\n",
      "1000/1000 [==============================] - 24s 24ms/step - loss: 0.5943 - accuracy: 0.7888\n",
      "Epoch 21/50\n",
      "1000/1000 [==============================] - 25s 25ms/step - loss: 0.5785 - accuracy: 0.7961\n",
      "Epoch 22/50\n",
      "1000/1000 [==============================] - 25s 25ms/step - loss: 0.5655 - accuracy: 0.8001\n",
      "Epoch 23/50\n",
      "1000/1000 [==============================] - 26s 26ms/step - loss: 0.5583 - accuracy: 0.8015\n",
      "Epoch 24/50\n",
      "1000/1000 [==============================] - 25s 25ms/step - loss: 0.5472 - accuracy: 0.8061\n",
      "Epoch 25/50\n",
      "1000/1000 [==============================] - 26s 26ms/step - loss: 0.5353 - accuracy: 0.8109\n",
      "Epoch 26/50\n",
      "1000/1000 [==============================] - 26s 26ms/step - loss: 0.5303 - accuracy: 0.8122\n",
      "Epoch 27/50\n",
      "1000/1000 [==============================] - 25s 25ms/step - loss: 0.5194 - accuracy: 0.8162\n",
      "Epoch 28/50\n",
      "1000/1000 [==============================] - 24s 24ms/step - loss: 0.5148 - accuracy: 0.8174\n",
      "Epoch 29/50\n",
      "1000/1000 [==============================] - 28s 28ms/step - loss: 0.5034 - accuracy: 0.8205\n",
      "Epoch 30/50\n",
      "1000/1000 [==============================] - 27s 27ms/step - loss: 0.4976 - accuracy: 0.8220\n",
      "Epoch 31/50\n",
      "1000/1000 [==============================] - 25s 25ms/step - loss: 0.4887 - accuracy: 0.8267\n",
      "Epoch 32/50\n",
      "1000/1000 [==============================] - 26s 26ms/step - loss: 0.4807 - accuracy: 0.8281\n",
      "Epoch 33/50\n",
      "1000/1000 [==============================] - 25s 25ms/step - loss: 0.4743 - accuracy: 0.8318\n",
      "Epoch 34/50\n",
      "1000/1000 [==============================] - 24s 24ms/step - loss: 0.4663 - accuracy: 0.8344\n",
      "Epoch 35/50\n",
      "1000/1000 [==============================] - 26s 26ms/step - loss: 0.4608 - accuracy: 0.8339\n",
      "Epoch 36/50\n",
      "1000/1000 [==============================] - 25s 25ms/step - loss: 0.4587 - accuracy: 0.8346\n",
      "Epoch 37/50\n",
      "1000/1000 [==============================] - 24s 24ms/step - loss: 0.4476 - accuracy: 0.8401\n",
      "Epoch 38/50\n",
      "1000/1000 [==============================] - 25s 25ms/step - loss: 0.4425 - accuracy: 0.8431\n",
      "Epoch 39/50\n",
      "1000/1000 [==============================] - 24s 24ms/step - loss: 0.4390 - accuracy: 0.8432\n",
      "Epoch 40/50\n",
      "1000/1000 [==============================] - 24s 24ms/step - loss: 0.4331 - accuracy: 0.8439\n",
      "Epoch 41/50\n",
      "1000/1000 [==============================] - 25s 25ms/step - loss: 0.4278 - accuracy: 0.8464\n",
      "Epoch 42/50\n",
      "1000/1000 [==============================] - 27s 27ms/step - loss: 0.4216 - accuracy: 0.8477\n",
      "Epoch 43/50\n",
      "1000/1000 [==============================] - 21s 21ms/step - loss: 0.4151 - accuracy: 0.8512\n",
      "Epoch 44/50\n",
      "1000/1000 [==============================] - 20s 20ms/step - loss: 0.4105 - accuracy: 0.8528\n",
      "Epoch 45/50\n",
      "1000/1000 [==============================] - 20s 20ms/step - loss: 0.4076 - accuracy: 0.8528\n",
      "Epoch 46/50\n",
      "1000/1000 [==============================] - 21s 21ms/step - loss: 0.4033 - accuracy: 0.8556\n",
      "Epoch 47/50\n",
      "1000/1000 [==============================] - 21s 21ms/step - loss: 0.3994 - accuracy: 0.8563\n",
      "Epoch 48/50\n",
      "1000/1000 [==============================] - 20s 20ms/step - loss: 0.3884 - accuracy: 0.8603\n",
      "Epoch 49/50\n",
      "1000/1000 [==============================] - 20s 20ms/step - loss: 0.3895 - accuracy: 0.8587\n",
      "Epoch 50/50\n",
      "1000/1000 [==============================] - 20s 20ms/step - loss: 0.3878 - accuracy: 0.8610\n"
     ]
    }
   ],
   "source": [
    "for features,labels in data:\n",
    "    features=tf.divide(features,255)\n",
    "    labels=tf.one_hot(labels,10)\n",
    "    print(features.shape,labels.shape)\n",
    "    #break\n",
    "    record=cnn_model.fit(features,labels,batch_size=50,epochs=50)"
   ]
  },
  {
   "cell_type": "code",
   "execution_count": 28,
   "metadata": {},
   "outputs": [
    {
     "name": "stdout",
     "output_type": "stream",
     "text": [
      "1563/1563 [==============================] - 14s 7ms/step\n"
     ]
    },
    {
     "data": {
      "text/plain": [
       "array([[4.5640090e-14, 1.8428922e-16, 4.9015352e-09, ..., 6.4252945e-14,\n",
       "        9.2423165e-18, 4.7642321e-13],\n",
       "       [8.7833414e-06, 1.0913856e-09, 4.4753792e-04, ..., 1.2437206e-03,\n",
       "        2.7282263e-07, 1.2853537e-05],\n",
       "       [1.7323480e-04, 2.5614278e-02, 1.6194560e-02, ..., 2.0485396e-02,\n",
       "        1.3615075e-05, 1.9449489e-01],\n",
       "       ...,\n",
       "       [3.6435004e-04, 3.5663918e-05, 7.0249803e-02, ..., 3.4809291e-02,\n",
       "        1.0038061e-05, 7.4697075e-11],\n",
       "       [3.4796019e-05, 6.3895228e-10, 5.6543332e-03, ..., 1.5919351e-04,\n",
       "        5.3392979e-10, 7.0271922e-09],\n",
       "       [1.5623016e-04, 1.6085288e-09, 9.9084005e-03, ..., 1.2450671e-04,\n",
       "        1.0846278e-09, 3.2816298e-13]], dtype=float32)"
      ]
     },
     "execution_count": 28,
     "metadata": {},
     "output_type": "execute_result"
    }
   ],
   "source": [
    "cnn_model.predict(features)"
   ]
  }
 ],
 "metadata": {
  "kernelspec": {
   "display_name": "Python 3.10.8 64-bit",
   "language": "python",
   "name": "python3"
  },
  "language_info": {
   "codemirror_mode": {
    "name": "ipython",
    "version": 3
   },
   "file_extension": ".py",
   "mimetype": "text/x-python",
   "name": "python",
   "nbconvert_exporter": "python",
   "pygments_lexer": "ipython3",
   "version": "3.10.8"
  },
  "orig_nbformat": 4,
  "vscode": {
   "interpreter": {
    "hash": "26de051ba29f2982a8de78e945f0abaf191376122a1563185a90213a26c5da77"
   }
  }
 },
 "nbformat": 4,
 "nbformat_minor": 2
}
