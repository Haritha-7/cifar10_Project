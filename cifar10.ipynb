

import tensorflow as tf
from PIL import Image
from tensorflow.keras import layers
img=Image.open("./data/cifar10/test/airplane/1001_airplane.png")
print(img)
print(img.size)
data=tf.keras.utils.image_dataset_from_directory(
"./data/cifar10/train",image_size=(32,32),color_mode="rgb",batch_size=50000)
print(data)
cnn_model=tf.keras.Sequential([
   layers.Conv2D(9,3,padding="same",input_shape=(32,32,3)),
   layers.MaxPool2D(),
   layers.Conv2D(18,3,padding="same"),
   layers.MaxPool2D(),
   layers.Conv2D(36,3),
   layers.MaxPool2D(),
   layers.Flatten(),
   layers.Dense(64,activation="relu"),
   layers.Dense(10),
   layers.Softmax()
])

cnn_model.summary()
cnn_model.compile(
   loss=tf.keras.losses.categorical_crossentropy,
   optimizer=tf.keras.optimizers.Adam(0.001),
   metrics=["accuracy"]
)
for features,labels in data:
    features=tf.divide(features,255)
    labels=tf.one_hot(labels,10)
    print(features.shape,labels.shape)
    record=cnn_model.fit(features,labels,batch_size=50,epochs=10)